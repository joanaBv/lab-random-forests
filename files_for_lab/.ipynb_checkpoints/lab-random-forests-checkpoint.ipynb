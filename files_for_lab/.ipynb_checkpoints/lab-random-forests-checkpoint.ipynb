{
 "cells": [
  {
   "cell_type": "code",
   "execution_count": 1,
   "id": "07d9bb8e",
   "metadata": {},
   "outputs": [],
   "source": [
    "import pandas as pd\n",
    "import numpy as np\n",
    "\n",
    "categorical = pd.read_csv(\"../files_for_lab/categorical.csv\")\n",
    "numerical = pd.read_csv('../files_for_lab/numerical.csv')\n",
    "target = pd.read_csv('../files_for_lab/target.csv')"
   ]
  },
  {
   "cell_type": "code",
   "execution_count": 6,
   "id": "7c5507a8",
   "metadata": {},
   "outputs": [],
   "source": [
    "data = pd.concat([categorical,numerical,target],axis=1)\n",
    "data = data.drop(['TARGET_D'],axis=1)"
   ]
  },
  {
   "cell_type": "code",
   "execution_count": 11,
   "id": "0ee21fd9",
   "metadata": {},
   "outputs": [
    {
     "data": {
      "text/plain": [
       "STATE       object\n",
       "CLUSTER      int64\n",
       "HOMEOWNR    object\n",
       "GENDER      object\n",
       "DATASRCE     int64\n",
       "             ...  \n",
       "CONTROLN     int64\n",
       "HPHONE_D     int64\n",
       "RFA_2F       int64\n",
       "CLUSTER2     int64\n",
       "TARGET_B     int64\n",
       "Length: 338, dtype: object"
      ]
     },
     "execution_count": 11,
     "metadata": {},
     "output_type": "execute_result"
    }
   ],
   "source": [
    "data.dtypes"
   ]
  },
  {
   "cell_type": "code",
   "execution_count": 8,
   "id": "31073599",
   "metadata": {},
   "outputs": [],
   "source": [
    "from sklearn.utils import resample\n",
    "\n",
    "category_0 = data[data['TARGET_B'] == 0]\n",
    "category_1 = data[data['TARGET_B'] == 1]\n",
    "\n",
    "category_0_undersampled = resample(category_0, \n",
    "                                   replace=False, \n",
    "                                   n_samples = len(category_1))\n",
    "\n",
    "data_downsampled = pd.concat([category_0_undersampled, category_1], axis=0)"
   ]
  },
  {
   "cell_type": "code",
   "execution_count": 13,
   "id": "11922b71",
   "metadata": {},
   "outputs": [],
   "source": [
    "# X-y Split\n",
    "\n",
    "X = data_downsampled.drop('TARGET_B', axis=1)\n",
    "y = data_downsampled['TARGET_B']\n",
    "\n",
    "# Train/Test Split\n",
    "\n",
    "from sklearn.model_selection import train_test_split\n",
    "X_train, X_test, y_train, y_test = train_test_split(X, y, random_state=0)"
   ]
  },
  {
   "cell_type": "code",
   "execution_count": 15,
   "id": "b74be9b5",
   "metadata": {},
   "outputs": [],
   "source": [
    "# Splitting my numerical values\n",
    "\n",
    "numerics = ['int16', 'int32', 'int64', 'float16', 'float32', 'float64']\n",
    "\n",
    "X_train_num = X_train.select_dtypes(include=numerics)\n",
    "X_test_num = X_test.select_dtypes(include=numerics)\n",
    "\n",
    "X_train_cat = X_train.select_dtypes(include=object)\n",
    "X_test_cat = X_test.select_dtypes(include=object)\n",
    "\n",
    "y_train = y_train.reset_index(drop=True)\n",
    "y_test = y_test.reset_index(drop=True)"
   ]
  },
  {
   "cell_type": "code",
   "execution_count": 19,
   "id": "a3b4b013",
   "metadata": {},
   "outputs": [],
   "source": [
    "# Encoding Categorical Values\n",
    "\n",
    "One_Hot_Encoding_train = pd.get_dummies(X_train_cat)\n",
    "One_Hot_Encoding_test = pd.get_dummies(X_test_cat)"
   ]
  },
  {
   "cell_type": "code",
   "execution_count": 20,
   "id": "84ad5dd5",
   "metadata": {},
   "outputs": [],
   "source": [
    "# Reuniting my X matrixes\n",
    "\n",
    "X_train = pd.concat([X_train_num,One_Hot_Encoding_train],axis=1)\n",
    "X_test = pd.concat([X_test_num,One_Hot_Encoding_test],axis=1)\n"
   ]
  },
  {
   "cell_type": "code",
   "execution_count": 41,
   "id": "4301b386",
   "metadata": {},
   "outputs": [
    {
     "name": "stdout",
     "output_type": "stream",
     "text": [
      "0.6413821585903083\n",
      "0.5685383980181669\n"
     ]
    }
   ],
   "source": [
    "from sklearn.ensemble import RandomForestClassifier\n",
    "clf = RandomForestClassifier(max_depth=5,\n",
    "                             min_samples_split=20,\n",
    "                             min_samples_leaf =20)\n",
    "clf.fit(X_train, y_train)\n",
    "print(clf.score(X_train, y_train))\n",
    "print(clf.score(X_test, y_test))"
   ]
  },
  {
   "cell_type": "code",
   "execution_count": 39,
   "id": "741bf2f5",
   "metadata": {},
   "outputs": [],
   "source": [
    "# For cross validation\n",
    "from sklearn.model_selection import cross_val_score\n",
    "clf = RandomForestClassifier(max_depth=5,\n",
    "                             min_samples_split=20,\n",
    "                             min_samples_leaf =20)"
   ]
  },
  {
   "cell_type": "code",
   "execution_count": 32,
   "id": "528cb8d6",
   "metadata": {},
   "outputs": [
    {
     "name": "stdout",
     "output_type": "stream",
     "text": [
      "0.5766804597178486\n"
     ]
    }
   ],
   "source": [
    "cross_val_scores = cross_val_score(clf, X_train, y_train, cv=10)\n",
    "print(np.mean(cross_val_scores))"
   ]
  },
  {
   "cell_type": "code",
   "execution_count": 33,
   "id": "93e37a17",
   "metadata": {},
   "outputs": [
    {
     "data": {
      "text/plain": [
       "array([0.55433287, 0.56946355, 0.5914718 , 0.58459422, 0.58953168,\n",
       "       0.54683196, 0.58815427, 0.61294766, 0.56749311, 0.56198347])"
      ]
     },
     "execution_count": 33,
     "metadata": {},
     "output_type": "execute_result"
    }
   ],
   "source": [
    "cross_val_scores"
   ]
  },
  {
   "cell_type": "code",
   "execution_count": 42,
   "id": "208a61cd",
   "metadata": {},
   "outputs": [
    {
     "data": {
      "image/png": "[encoded data removed]",
      "text/plain": [
       "<Figure size 432x288 with 2 Axes>"
      ]
     },
     "metadata": {
      "needs_background": "light"
     },
     "output_type": "display_data"
    }
   ],
   "source": [
    "import matplotlib.pyplot as plt\n",
    "from sklearn.metrics import plot_confusion_matrix\n",
    "from sklearn.metrics import confusion_matrix\n",
    "\n",
    "\n",
    "plot_confusion_matrix(clf, X_test, y_test)  \n",
    "plt.show()"
   ]
  },
  {
   "cell_type": "code",
   "execution_count": null,
   "id": "dde5086f",
   "metadata": {},
   "outputs": [],
   "source": []
  }
 ],
 "metadata": {
  "kernelspec": {
   "display_name": "Python 3",
   "language": "python",
   "name": "python3"
  },
  "language_info": {
   "codemirror_mode": {
    "name": "ipython",
    "version": 3
   },
   "file_extension": ".py",
   "mimetype": "text/x-python",
   "name": "python",
   "nbconvert_exporter": "python",
   "pygments_lexer": "ipython3",
   "version": "3.8.8"
  }
 },
 "nbformat": 4,
 "nbformat_minor": 5
}
